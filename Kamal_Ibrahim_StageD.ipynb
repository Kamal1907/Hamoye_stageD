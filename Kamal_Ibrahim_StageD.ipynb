{
 "cells": [
  {
   "cell_type": "code",
   "execution_count": 4,
   "id": "db360351",
   "metadata": {},
   "outputs": [],
   "source": [
    "import numpy as np\n",
    "import pandas as pd \n",
    "import seaborn as sns\n",
    "import matplotlib.pyplot as plt\n",
    "%matplotlib inline\n"
   ]
  },
  {
   "cell_type": "code",
   "execution_count": 5,
   "id": "ec28e112",
   "metadata": {},
   "outputs": [],
   "source": [
    "#read all hidden null values and empty cells\n",
    "\n",
    "missing_value = ['N/a','na', np.nan]\n",
    "afp = pd.read_csv('Africa Food Production (2004 - 2013).csv')\n",
    "afs = pd.read_csv('Africa Food Supply (2004 - 2013).csv')"
   ]
  },
  {
   "cell_type": "code",
   "execution_count": 6,
   "id": "1a90009b",
   "metadata": {},
   "outputs": [
    {
     "data": {
      "text/html": [
       "<div>\n",
       "<style scoped>\n",
       "    .dataframe tbody tr th:only-of-type {\n",
       "        vertical-align: middle;\n",
       "    }\n",
       "\n",
       "    .dataframe tbody tr th {\n",
       "        vertical-align: top;\n",
       "    }\n",
       "\n",
       "    .dataframe thead th {\n",
       "        text-align: right;\n",
       "    }\n",
       "</style>\n",
       "<table border=\"1\" class=\"dataframe\">\n",
       "  <thead>\n",
       "    <tr style=\"text-align: right;\">\n",
       "      <th></th>\n",
       "      <th>Country</th>\n",
       "      <th>Item</th>\n",
       "      <th>Year</th>\n",
       "      <th>Value</th>\n",
       "    </tr>\n",
       "  </thead>\n",
       "  <tbody>\n",
       "    <tr>\n",
       "      <th>0</th>\n",
       "      <td>Algeria</td>\n",
       "      <td>Wheat and products</td>\n",
       "      <td>2004</td>\n",
       "      <td>2731</td>\n",
       "    </tr>\n",
       "    <tr>\n",
       "      <th>1</th>\n",
       "      <td>Algeria</td>\n",
       "      <td>Wheat and products</td>\n",
       "      <td>2005</td>\n",
       "      <td>2415</td>\n",
       "    </tr>\n",
       "    <tr>\n",
       "      <th>2</th>\n",
       "      <td>Algeria</td>\n",
       "      <td>Wheat and products</td>\n",
       "      <td>2006</td>\n",
       "      <td>2688</td>\n",
       "    </tr>\n",
       "    <tr>\n",
       "      <th>3</th>\n",
       "      <td>Algeria</td>\n",
       "      <td>Wheat and products</td>\n",
       "      <td>2007</td>\n",
       "      <td>2319</td>\n",
       "    </tr>\n",
       "    <tr>\n",
       "      <th>4</th>\n",
       "      <td>Algeria</td>\n",
       "      <td>Wheat and products</td>\n",
       "      <td>2008</td>\n",
       "      <td>1111</td>\n",
       "    </tr>\n",
       "  </tbody>\n",
       "</table>\n",
       "</div>"
      ],
      "text/plain": [
       "   Country                Item  Year  Value\n",
       "0  Algeria  Wheat and products  2004   2731\n",
       "1  Algeria  Wheat and products  2005   2415\n",
       "2  Algeria  Wheat and products  2006   2688\n",
       "3  Algeria  Wheat and products  2007   2319\n",
       "4  Algeria  Wheat and products  2008   1111"
      ]
     },
     "execution_count": 6,
     "metadata": {},
     "output_type": "execute_result"
    }
   ],
   "source": [
    "afp.head()"
   ]
  },
  {
   "cell_type": "code",
   "execution_count": 7,
   "id": "70cf77f3",
   "metadata": {},
   "outputs": [
    {
     "data": {
      "text/html": [
       "<div>\n",
       "<style scoped>\n",
       "    .dataframe tbody tr th:only-of-type {\n",
       "        vertical-align: middle;\n",
       "    }\n",
       "\n",
       "    .dataframe tbody tr th {\n",
       "        vertical-align: top;\n",
       "    }\n",
       "\n",
       "    .dataframe thead th {\n",
       "        text-align: right;\n",
       "    }\n",
       "</style>\n",
       "<table border=\"1\" class=\"dataframe\">\n",
       "  <thead>\n",
       "    <tr style=\"text-align: right;\">\n",
       "      <th></th>\n",
       "      <th>Country</th>\n",
       "      <th>Year</th>\n",
       "      <th>Value</th>\n",
       "    </tr>\n",
       "  </thead>\n",
       "  <tbody>\n",
       "    <tr>\n",
       "      <th>0</th>\n",
       "      <td>Algeria</td>\n",
       "      <td>2004</td>\n",
       "      <td>2987</td>\n",
       "    </tr>\n",
       "    <tr>\n",
       "      <th>1</th>\n",
       "      <td>Algeria</td>\n",
       "      <td>2005</td>\n",
       "      <td>2958</td>\n",
       "    </tr>\n",
       "    <tr>\n",
       "      <th>2</th>\n",
       "      <td>Algeria</td>\n",
       "      <td>2006</td>\n",
       "      <td>3047</td>\n",
       "    </tr>\n",
       "    <tr>\n",
       "      <th>3</th>\n",
       "      <td>Algeria</td>\n",
       "      <td>2007</td>\n",
       "      <td>3041</td>\n",
       "    </tr>\n",
       "    <tr>\n",
       "      <th>4</th>\n",
       "      <td>Algeria</td>\n",
       "      <td>2008</td>\n",
       "      <td>3048</td>\n",
       "    </tr>\n",
       "  </tbody>\n",
       "</table>\n",
       "</div>"
      ],
      "text/plain": [
       "   Country  Year  Value\n",
       "0  Algeria  2004   2987\n",
       "1  Algeria  2005   2958\n",
       "2  Algeria  2006   3047\n",
       "3  Algeria  2007   3041\n",
       "4  Algeria  2008   3048"
      ]
     },
     "execution_count": 7,
     "metadata": {},
     "output_type": "execute_result"
    }
   ],
   "source": [
    "afs.head()"
   ]
  },
  {
   "cell_type": "code",
   "execution_count": 8,
   "id": "c1c6118c",
   "metadata": {},
   "outputs": [
    {
     "name": "stdout",
     "output_type": "stream",
     "text": [
      "<class 'pandas.core.frame.DataFrame'>\n",
      "RangeIndex: 23110 entries, 0 to 23109\n",
      "Data columns (total 4 columns):\n",
      " #   Column   Non-Null Count  Dtype \n",
      "---  ------   --------------  ----- \n",
      " 0   Country  23110 non-null  object\n",
      " 1   Item     23110 non-null  object\n",
      " 2   Year     23110 non-null  int64 \n",
      " 3   Value    23110 non-null  int64 \n",
      "dtypes: int64(2), object(2)\n",
      "memory usage: 722.3+ KB\n"
     ]
    }
   ],
   "source": [
    "afp.info()"
   ]
  },
  {
   "cell_type": "code",
   "execution_count": 9,
   "id": "99731c40",
   "metadata": {},
   "outputs": [
    {
     "name": "stdout",
     "output_type": "stream",
     "text": [
      "<class 'pandas.core.frame.DataFrame'>\n",
      "RangeIndex: 450 entries, 0 to 449\n",
      "Data columns (total 3 columns):\n",
      " #   Column   Non-Null Count  Dtype \n",
      "---  ------   --------------  ----- \n",
      " 0   Country  450 non-null    object\n",
      " 1   Year     450 non-null    int64 \n",
      " 2   Value    450 non-null    int64 \n",
      "dtypes: int64(2), object(1)\n",
      "memory usage: 10.7+ KB\n"
     ]
    }
   ],
   "source": [
    "afs.info()"
   ]
  },
  {
   "cell_type": "code",
   "execution_count": 11,
   "id": "88f1e6e8",
   "metadata": {},
   "outputs": [
    {
     "data": {
      "text/plain": [
       "United Republic of Tanzania    790\n",
       "Morocco                        770\n",
       "South Africa                   750\n",
       "Kenya                          750\n",
       "Egypt                          700\n",
       "Madagascar                     690\n",
       "Cameroon                       650\n",
       "Cote d'Ivoire                  640\n",
       "Zimbabwe                       640\n",
       "Mozambique                     620\n",
       "Tunisia                        610\n",
       "Nigeria                        610\n",
       "Ethiopia                       600\n",
       "Benin                          590\n",
       "Algeria                        580\n",
       "Ghana                          580\n",
       "Uganda                         560\n",
       "Togo                           560\n",
       "Angola                         540\n",
       "Sudan                          540\n",
       "Senegal                        520\n",
       "Sierra Leone                   500\n",
       "Congo                          500\n",
       "Guinea                         500\n",
       "Malawi                         480\n",
       "Zambia                         480\n",
       "Mali                           480\n",
       "Rwanda                         460\n",
       "Mauritius                      460\n",
       "Central African Republic       450\n",
       "Guinea-Bissau                  440\n",
       "Burkina Faso                   430\n",
       "Niger                          430\n",
       "Namibia                        430\n",
       "Liberia                        420\n",
       "Swaziland                      420\n",
       "Gabon                          400\n",
       "Chad                           390\n",
       "Mauritania                     380\n",
       "Gambia                         360\n",
       "Botswana                       340\n",
       "Cabo Verde                     330\n",
       "Sao Tome and Principe          290\n",
       "Lesotho                        230\n",
       "Djibouti                       220\n",
       "Name: Country, dtype: int64"
      ]
     },
     "execution_count": 11,
     "metadata": {},
     "output_type": "execute_result"
    }
   ],
   "source": [
    "afp['Country'].value_counts()"
   ]
  },
  {
   "cell_type": "code",
   "execution_count": 12,
   "id": "205416d2",
   "metadata": {},
   "outputs": [
    {
     "data": {
      "text/plain": [
       "Algeria                        10\n",
       "Malawi                         10\n",
       "Mauritania                     10\n",
       "Mauritius                      10\n",
       "Morocco                        10\n",
       "Mozambique                     10\n",
       "Namibia                        10\n",
       "Niger                          10\n",
       "Nigeria                        10\n",
       "Rwanda                         10\n",
       "Sao Tome and Principe          10\n",
       "Senegal                        10\n",
       "Sierra Leone                   10\n",
       "South Africa                   10\n",
       "Sudan                          10\n",
       "Swaziland                      10\n",
       "Togo                           10\n",
       "Tunisia                        10\n",
       "Uganda                         10\n",
       "United Republic of Tanzania    10\n",
       "Zambia                         10\n",
       "Mali                           10\n",
       "Madagascar                     10\n",
       "Angola                         10\n",
       "Liberia                        10\n",
       "Benin                          10\n",
       "Botswana                       10\n",
       "Burkina Faso                   10\n",
       "Cabo Verde                     10\n",
       "Cameroon                       10\n",
       "Central African Republic       10\n",
       "Chad                           10\n",
       "Congo                          10\n",
       "Cote d'Ivoire                  10\n",
       "Djibouti                       10\n",
       "Egypt                          10\n",
       "Ethiopia                       10\n",
       "Gabon                          10\n",
       "Gambia                         10\n",
       "Ghana                          10\n",
       "Guinea                         10\n",
       "Guinea-Bissau                  10\n",
       "Kenya                          10\n",
       "Lesotho                        10\n",
       "Zimbabwe                       10\n",
       "Name: Country, dtype: int64"
      ]
     },
     "execution_count": 12,
     "metadata": {},
     "output_type": "execute_result"
    }
   ],
   "source": [
    "afs['Country'].value_counts()"
   ]
  },
  {
   "cell_type": "code",
   "execution_count": 21,
   "id": "eaddc9a2",
   "metadata": {},
   "outputs": [
    {
     "ename": "AttributeError",
     "evalue": "'str' object has no attribute 'sum'",
     "output_type": "error",
     "traceback": [
      "\u001b[1;31m---------------------------------------------------------------------------\u001b[0m",
      "\u001b[1;31mAttributeError\u001b[0m                            Traceback (most recent call last)",
      "\u001b[1;32m~\\AppData\\Local\\Temp\\ipykernel_25596\\2548739910.py\u001b[0m in \u001b[0;36m<module>\u001b[1;34m\u001b[0m\n\u001b[0;32m      1\u001b[0m \u001b[1;31m#a bar plot to know the Country with the highest production\u001b[0m\u001b[1;33m\u001b[0m\u001b[1;33m\u001b[0m\u001b[0m\n\u001b[0;32m      2\u001b[0m \u001b[1;33m\u001b[0m\u001b[0m\n\u001b[1;32m----> 3\u001b[1;33m \u001b[0mplt\u001b[0m\u001b[1;33m.\u001b[0m\u001b[0mbar\u001b[0m\u001b[1;33m(\u001b[0m\u001b[1;33m(\u001b[0m\u001b[1;34m'Country'\u001b[0m\u001b[1;33m)\u001b[0m\u001b[1;33m,\u001b[0m\u001b[1;33m(\u001b[0m\u001b[1;34m'Value'\u001b[0m\u001b[1;33m)\u001b[0m\u001b[1;33m.\u001b[0m\u001b[0msum\u001b[0m\u001b[1;33m(\u001b[0m\u001b[1;33m)\u001b[0m\u001b[1;33m)\u001b[0m\u001b[1;33m\u001b[0m\u001b[1;33m\u001b[0m\u001b[0m\n\u001b[0m\u001b[0;32m      4\u001b[0m \u001b[0mplt\u001b[0m\u001b[1;33m.\u001b[0m\u001b[0mylabel\u001b[0m\u001b[1;33m(\u001b[0m\u001b[1;34m'Sum Values'\u001b[0m\u001b[1;33m)\u001b[0m\u001b[1;33m\u001b[0m\u001b[1;33m\u001b[0m\u001b[0m\n\u001b[0;32m      5\u001b[0m \u001b[0mplt\u001b[0m\u001b[1;33m.\u001b[0m\u001b[0mxlabel\u001b[0m\u001b[1;33m(\u001b[0m\u001b[1;34m'Country'\u001b[0m\u001b[1;33m)\u001b[0m\u001b[1;33m\u001b[0m\u001b[1;33m\u001b[0m\u001b[0m\n",
      "\u001b[1;31mAttributeError\u001b[0m: 'str' object has no attribute 'sum'"
     ]
    }
   ],
   "source": [
    "#a bar plot to know the Country with the highest production\n",
    "\n",
    "plt.bar(('Country'),('Value').sum())\n",
    "plt.ylabel('Sum Values')\n",
    "plt.xlabel('Country')\n",
    "plt.show()"
   ]
  },
  {
   "cell_type": "code",
   "execution_count": null,
   "id": "e97a1eaf",
   "metadata": {},
   "outputs": [],
   "source": []
  }
 ],
 "metadata": {
  "kernelspec": {
   "display_name": "Python 3 (ipykernel)",
   "language": "python",
   "name": "python3"
  },
  "language_info": {
   "codemirror_mode": {
    "name": "ipython",
    "version": 3
   },
   "file_extension": ".py",
   "mimetype": "text/x-python",
   "name": "python",
   "nbconvert_exporter": "python",
   "pygments_lexer": "ipython3",
   "version": "3.9.13"
  }
 },
 "nbformat": 4,
 "nbformat_minor": 5
}
